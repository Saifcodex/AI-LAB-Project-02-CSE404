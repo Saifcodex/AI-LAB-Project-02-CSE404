{
 "cells": [
  {
   "cell_type": "code",
   "execution_count": 41,
   "id": "60247fd9-9929-4823-8388-0961b771847a",
   "metadata": {},
   "outputs": [],
   "source": [
    "import heapq\n",
    "import matplotlib.pyplot as plt\n",
    "import matplotlib.patches as patches\n",
    "import math"
   ]
  },
  {
   "cell_type": "code",
   "execution_count": 43,
   "id": "9a00c4c2-a0b8-44dc-af78-573985791ff9",
   "metadata": {},
   "outputs": [],
   "source": [
    "# ------------------------ Input Reading Function ------------------------\n",
    "\n",
    "def read_input_file(filepath):\n",
    "    with open(filepath, 'r') as file:\n",
    "        lines = file.read().splitlines()\n",
    "\n",
    "    m, n = map(int, lines[0].split())\n",
    "    k = int(lines[1])\n",
    "    obstacles = [tuple(map(int, lines[i + 2].split())) for i in range(k)]\n",
    "\n",
    "    c = int(lines[k + 2])\n",
    "    terrain_costs = {}\n",
    "    for i in range(c):\n",
    "        x, y, cost = map(int, lines[k + 3 + i].split())\n",
    "        terrain_costs[(x, y)] = cost\n",
    "\n",
    "    start = tuple(map(int, lines[k + 3 + c].split()))\n",
    "    goal = tuple(map(int, lines[k + 4 + c].split()))\n",
    "\n",
    "    return (m, n), set(obstacles), terrain_costs, start, goal"
   ]
  },
  {
   "cell_type": "code",
   "execution_count": 45,
   "id": "710038dc-11d7-4849-9d83-7aaa3ca80e08",
   "metadata": {},
   "outputs": [],
   "source": [
    "# ------------------------ A* Algorithm ------------------------\n",
    "\n",
    "def heuristic(a, b):\n",
    "    return math.sqrt((a[0] - b[0]) ** 2 + (a[1] - b[1]) ** 2)\n",
    "\n",
    "def get_neighbors(node, grid_size):\n",
    "    directions = [(-1, 0), (1, 0), (0, -1), (0, 1),\n",
    "                  (-1, -1), (-1, 1), (1, -1), (1, 1)] \n",
    "    neighbors = []\n",
    "    for dx, dy in directions:\n",
    "        nx, ny = node[0] + dx, node[1] + dy\n",
    "        if 0 <= nx < grid_size[0] and 0 <= ny < grid_size[1]:\n",
    "            neighbors.append((nx, ny))\n",
    "    return neighbors\n",
    "\n",
    "def a_star_search(grid_size, start, goal, obstacles, terrain_costs):\n",
    "    open_set = []\n",
    "    heapq.heappush(open_set, (0 + heuristic(start, goal), 0, start, [start]))\n",
    "\n",
    "    visited = set()\n",
    "\n",
    "    while open_set:\n",
    "        f, g, current, path = heapq.heappop(open_set)\n",
    "        if current in visited:\n",
    "            continue\n",
    "        visited.add(current)\n",
    "\n",
    "        if current == goal:\n",
    "            return path, g\n",
    "\n",
    "        for neighbor in get_neighbors(current, grid_size):\n",
    "            if neighbor in obstacles or neighbor in visited:\n",
    "                continue\n",
    "\n",
    "            base_cost = terrain_costs.get(neighbor, 1)\n",
    "            diagonal = (abs(neighbor[0] - current[0]) == 1 and abs(neighbor[1] - current[1]) == 1)\n",
    "            move_cost = 1.4 * base_cost if diagonal else base_cost\n",
    "            new_g = g + move_cost\n",
    "            new_f = new_g + heuristic(neighbor, goal)\n",
    "\n",
    "            heapq.heappush(open_set, (new_f, new_g, neighbor, path + [neighbor]))\n",
    "\n",
    "    return None, float('inf')"
   ]
  },
  {
   "cell_type": "code",
   "execution_count": 47,
   "id": "66f92b1f-d245-4b30-8260-ef59ab6e345d",
   "metadata": {},
   "outputs": [],
   "source": [
    "# ------------------------ Visualization ------------------------\n",
    "\n",
    "def draw_grid(grid_size, path, obstacles, terrain_costs, start, goal):\n",
    "    fig, ax = plt.subplots(figsize=(6, 6))\n",
    "    m, n = grid_size\n",
    "\n",
    "    for i in range(m):\n",
    "        for j in range(n):\n",
    "            rect = patches.Rectangle((j, m - i - 1), 1, 1, linewidth=1,\n",
    "                                     edgecolor='gray', facecolor='white')\n",
    "            ax.add_patch(rect)\n",
    "\n",
    "            if (i, j) in terrain_costs:\n",
    "                rect = patches.Rectangle((j, m - i - 1), 1, 1, linewidth=1,\n",
    "                                         edgecolor='gray', facecolor='#cce6ff')\n",
    "                ax.add_patch(rect)\n",
    "                ax.text(j + 0.5, m - i - 0.5, f\"cost={terrain_costs[(i, j)]}\", \n",
    "                        color='black', ha='center', va='center', fontsize=8)\n",
    "\n",
    "            if (i, j) in obstacles:\n",
    "                rect = patches.Rectangle((j, m - i - 1), 1, 1, linewidth=1,\n",
    "                                         edgecolor='gray', facecolor='#ff6659')\n",
    "                ax.add_patch(rect)\n",
    "                ax.text(j + 0.5, m - i - 0.5, \"Obstacle\", \n",
    "                        color='white', ha='center', va='center', fontsize=8)\n",
    "\n",
    "    for idx in range(len(path) - 1):\n",
    "        x1, y1 = path[idx][1] + 0.5, m - path[idx][0] - 0.5\n",
    "        x2, y2 = path[idx + 1][1] + 0.5, m - path[idx + 1][0] - 0.5\n",
    "        ax.plot([x1, x2], [y1, y2], 'green', linewidth=3)\n",
    "        ax.plot(x1, y1, 'go', markersize=6)\n",
    "\n",
    "    # Draw start and goal\n",
    "    sx, sy = start[1] + 0.5, m - start[0] - 0.5\n",
    "    gx, gy = goal[1] + 0.5, m - goal[0] - 0.5\n",
    "    ax.plot(sx, sy, 'go', markersize=16)\n",
    "    ax.plot(gx, gy, 'ro', markersize=16)\n",
    "\n",
    "    # Legend\n",
    "    legend_elements = [\n",
    "        patches.Patch(color='green', label='Path'),\n",
    "        patches.Patch(color='#ff6659', label='Obstacle'),\n",
    "        patches.Patch(color='#cce6ff', label='Special Terrain'),\n",
    "    ]\n",
    "    ax.legend(handles=legend_elements, loc='lower left', bbox_to_anchor=(1, 0.1))\n",
    "    \n",
    "    ax.set_xlim(0, n)\n",
    "    ax.set_ylim(0, m)\n",
    "    ax.set_xticks(range(n + 1))\n",
    "    ax.set_yticks(range(m + 1))\n",
    "    ax.set_xticklabels([])\n",
    "    ax.set_yticklabels([])\n",
    "    ax.grid(True)\n",
    "    plt.gca().set_aspect('equal', adjustable='box')\n",
    "    plt.tight_layout()\n",
    "    plt.show()\n"
   ]
  },
  {
   "cell_type": "code",
   "execution_count": 49,
   "id": "1bf55709-eeb7-4c7c-a1b8-545f5a786b8d",
   "metadata": {},
   "outputs": [
    {
     "name": "stdout",
     "output_type": "stream",
     "text": [
      "Path: [(0, 0), (1, 0), (2, 1), (3, 2), (4, 3), (5, 4), (6, 5), (7, 6), (8, 7), (9, 8), (10, 9), (11, 10), (12, 11), (13, 12), (13, 13)]\n",
      "Total Cost: 18.8\n"
     ]
    },
    {
     "data": {
      "image/png": "[encoded data removed]",
      "text/plain": [
       "<Figure size 600x600 with 1 Axes>"
      ]
     },
     "metadata": {},
     "output_type": "display_data"
    }
   ],
   "source": [
    "file_path = \"input_file.txt\"\n",
    "\n",
    "grid_size, obstacles, terrain_costs, start, goal = read_input_file(file_path)\n",
    "path, total_cost = a_star_search(grid_size, start, goal, obstacles, terrain_costs)\n",
    "\n",
    "print(\"Path:\", path)\n",
    "print(\"Total Cost:\", round(total_cost, 2))\n",
    "\n",
    "draw_grid(grid_size, path, obstacles, terrain_costs, start, goal)"
   ]
  },
  {
   "cell_type": "code",
   "execution_count": null,
   "id": "ae58683b-6d81-4dbd-a774-bafac01dfdb1",
   "metadata": {},
   "outputs": [],
   "source": []
  },
  {
   "cell_type": "code",
   "execution_count": null,
   "id": "ce0d5498-4e7d-4ea4-933f-bcdb0cef49de",
   "metadata": {},
   "outputs": [],
   "source": []
  }
 ],
 "metadata": {
  "kernelspec": {
   "display_name": "Python 3 (ipykernel)",
   "language": "python",
   "name": "python3"
  },
  "language_info": {
   "codemirror_mode": {
    "name": "ipython",
    "version": 3
   },
   "file_extension": ".py",
   "mimetype": "text/x-python",
   "name": "python",
   "nbconvert_exporter": "python",
   "pygments_lexer": "ipython3",
   "version": "3.12.7"
  }
 },
 "nbformat": 4,
 "nbformat_minor": 5
}
